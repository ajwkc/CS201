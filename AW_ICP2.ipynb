{
  "nbformat": 4,
  "nbformat_minor": 0,
  "metadata": {
    "kernelspec": {
      "name": "python3",
      "display_name": "Python 3"
    },
    "language_info": {
      "codemirror_mode": {
        "name": "ipython",
        "version": 3
      },
      "file_extension": ".py",
      "mimetype": "text/x-python",
      "name": "python",
      "nbconvert_exporter": "python",
      "pygments_lexer": "ipython3",
      "version": "3.6.8"
    },
    "colab": {
      "name": "AW_ICP2",
      "version": "0.3.2",
      "provenance": [],
      "include_colab_link": true
    },
    "accelerator": "GPU"
  },
  "cells": [
    {
      "cell_type": "markdown",
      "metadata": {
        "id": "view-in-github",
        "colab_type": "text"
      },
      "source": [
        "<a href=\"https://colab.research.google.com/github/ajwkc/CS201/blob/master/AW_ICP2.ipynb\" target=\"_parent\"><img src=\"https://colab.research.google.com/assets/colab-badge.svg\" alt=\"Open In Colab\"/></a>"
      ]
    },
    {
      "cell_type": "markdown",
      "metadata": {
        "id": "cjua2fmpbxis",
        "colab_type": "text"
      },
      "source": [
        "# Neural networks with PyTorch\n",
        "\n",
        "Deep learning networks tend to be massive with dozens or hundreds of layers, that's where the term \"deep\" comes from. You can build one of these deep networks using only weight matrices as we did in the previous notebook, but in general it's very cumbersome and difficult to implement. PyTorch has a nice module `nn` that provides a nice way to efficiently build large neural networks."
      ]
    },
    {
      "cell_type": "code",
      "metadata": {
        "id": "LYo75AYKbxiu",
        "colab_type": "code",
        "colab": {}
      },
      "source": [
        "# Import necessary packages\n",
        "\n",
        "%matplotlib inline\n",
        "%config InlineBackend.figure_format = 'retina'\n",
        "\n",
        "import numpy as np\n",
        "import torch\n",
        "\n",
        "import helper\n",
        "\n",
        "import matplotlib.pyplot as plt"
      ],
      "execution_count": 0,
      "outputs": []
    },
    {
      "cell_type": "code",
      "metadata": {
        "id": "KC6duo_Q8NAR",
        "colab_type": "code",
        "colab": {}
      },
      "source": [
        ""
      ],
      "execution_count": 0,
      "outputs": []
    },
    {
      "cell_type": "code",
      "metadata": {
        "id": "S2nqXWfE8N8v",
        "colab_type": "code",
        "colab": {}
      },
      "source": [
        "from google.colab import drive\n",
        "drive.mount('/content/drive')\n",
        "my_folder = '/content/gdrive/My Drive/Colab Notebooks/ccc/'\n"
      ],
      "execution_count": 0,
      "outputs": []
    },
    {
      "cell_type": "markdown",
      "metadata": {
        "id": "xRmtL_5mbxix",
        "colab_type": "text"
      },
      "source": [
        "\n",
        "Now we're going to build a larger network that can solve a (formerly) difficult problem, identifying text in an image. Here we'll use the MNIST dataset which consists of greyscale handwritten digits. Each image is 28x28 pixels, you can see a sample below\n",
        "\n",
        "<img src='assets/mnist.png'>\n",
        "\n",
        "Our goal is to build a neural network that can take one of these images and predict the digit in the image.\n",
        "\n",
        "First up, we need to get our dataset. This is provided through the `torchvision` package. The code below will download the MNIST dataset, then create training and test datasets for us. Don't worry too much about the details here, you'll learn more about this later.\n",
        "\n",
        "![alt text](https://www.researchgate.net/profile/Steven_Young11/publication/306056875/figure/fig1/AS:393921575309346@1470929630835/Example-images-from-the-MNIST-dataset.png)"
      ]
    },
    {
      "cell_type": "code",
      "metadata": {
        "id": "X--cb7Xmbxiy",
        "colab_type": "code",
        "colab": {}
      },
      "source": [
        "### Run this cell\n",
        "\n",
        "from torchvision import datasets, transforms\n",
        "\n",
        "# Define a transform to normalize the data\n",
        "transform = transforms.Compose([transforms.ToTensor(),\n",
        "                              transforms.Normalize((0.5,), (0.5,)),\n",
        "                              ])\n",
        "\n",
        "# Download and load the training data\n",
        "trainset = datasets.MNIST('my_folder', download=True, train=True, transform=transform)\n",
        "trainloader = torch.utils.data.DataLoader(trainset, batch_size=64, shuffle=True)"
      ],
      "execution_count": 0,
      "outputs": []
    },
    {
      "cell_type": "markdown",
      "metadata": {
        "id": "2P7AdSQYbxi2",
        "colab_type": "text"
      },
      "source": [
        "We have the training data loaded into `trainloader` and we make that an iterator with `iter(trainloader)`. Later, we'll use this to loop through the dataset for training, like\n",
        "\n",
        "```python\n",
        "for image, label in trainloader:\n",
        "    ## do things with images and labels\n",
        "```\n",
        "\n",
        "You'll notice I created the `trainloader` with a batch size of 64, and `shuffle=True`. The batch size is the number of images we get in one iteration from the data loader and pass through our network, often called a *batch*. And `shuffle=True` tells it to shuffle the dataset every time we start going through the data loader again. But here I'm just grabbing the first batch so we can check out the data. We can see below that `images` is just a tensor with size `(64, 1, 28, 28)`. So, 64 images per batch, 1 color channel, and 28x28 images."
      ]
    },
    {
      "cell_type": "code",
      "metadata": {
        "id": "81_00IAEbxi3",
        "colab_type": "code",
        "outputId": "e464b535-f6d5-49c7-e18d-1b29ff62d0ff",
        "colab": {
          "base_uri": "https://localhost:8080/",
          "height": 69
        }
      },
      "source": [
        "dataiter = iter(trainloader)\n",
        "images, labels = dataiter.next()\n",
        "print(type(images))\n",
        "print(images.shape)\n",
        "print(labels.shape)"
      ],
      "execution_count": 4,
      "outputs": [
        {
          "output_type": "stream",
          "text": [
            "<class 'torch.Tensor'>\n",
            "torch.Size([64, 1, 28, 28])\n",
            "torch.Size([64])\n"
          ],
          "name": "stdout"
        }
      ]
    },
    {
      "cell_type": "markdown",
      "metadata": {
        "id": "kCRRiXaCbxi6",
        "colab_type": "text"
      },
      "source": [
        "This is what one of the images looks like. "
      ]
    },
    {
      "cell_type": "code",
      "metadata": {
        "id": "nkQ4glLYbxi6",
        "colab_type": "code",
        "outputId": "11284162-3400-4e18-aff3-4b71807de544",
        "colab": {
          "base_uri": "https://localhost:8080/",
          "height": 284
        }
      },
      "source": [
        "plt.imshow(images[8].numpy().squeeze(), cmap='Greys_r')"
      ],
      "execution_count": 5,
      "outputs": [
        {
          "output_type": "execute_result",
          "data": {
            "text/plain": [
              "<matplotlib.image.AxesImage at 0x7f672ece7a58>"
            ]
          },
          "metadata": {
            "tags": []
          },
          "execution_count": 5
        },
        {
          "output_type": "display_data",
          "data": {
            "image/png": "[encoded data removed]",
            "text/plain": [
              "<Figure size 432x288 with 1 Axes>"
            ]
          },
          "metadata": {
            "tags": [],
            "image/png": {
              "width": 253,
              "height": 250
            }
          }
        }
      ]
    },
    {
      "cell_type": "markdown",
      "metadata": {
        "id": "iJseQ4ZPbxi9",
        "colab_type": "text"
      },
      "source": [
        "First, let's try to build a simple network for this dataset using weight matrices and matrix multiplications. Then, we'll see how to do it using PyTorch's `nn` module which provides a much more convenient and powerful method for defining network architectures.\n",
        "\n",
        "The networks you've seen so far are called *fully-connected* or *dense* networks. Each unit in one layer is connected to each unit in the next layer. In fully-connected networks, the input to each layer must be a one-dimensional vector (which can be stacked into a 2D tensor as a batch of multiple examples). However, our images are 28x28 2D tensors, so we need to convert them into 1D vectors. Thinking about sizes, we need to convert the batch of images with shape `(64, 1, 28, 28)` to a have a shape of `(64, 784)`, 784 is 28 times 28. This is typically called *flattening*, we flattened the 2D images into 1D vectors.\n",
        "\n",
        "Previously you built a network with one output unit. Here we need 10 output units, one for each digit. We want our network to predict the digit shown in an image, so what we'll do is calculate probabilities that the image is of any one digit or class. This ends up being a discrete probability distribution over the classes (digits) that tells us the most likely class for the image. That means we need 10 output units for the 10 classes (digits). We'll see how to convert the network output into a probability distribution next.\n",
        "\n",
        "> **Exercise:** Flatten the batch of images `images`. Then build a multi-layer network with 784 input units, 256 hidden units, and 10 output units using random tensors for the weights and biases. For now, use a sigmoid activation for the hidden layer. Leave the output layer without an activation, we'll add one that gives us a probability distribution next."
      ]
    },
    {
      "cell_type": "code",
      "metadata": {
        "id": "cIkivK1cbxi-",
        "colab_type": "code",
        "outputId": "1f5d713e-7a27-42d8-8766-e22593966f7c",
        "colab": {
          "base_uri": "https://localhost:8080/",
          "height": 34
        }
      },
      "source": [
        "## Your solution\n",
        "\n",
        "## Solution\n",
        "def activation(x):\n",
        "    return 1/(1+torch.exp(-x))\n",
        "\n",
        "# Flatten the input images\n",
        "inputs = images.view(images.shape[0], -1) #which function can be used to reshape? \n",
        "\n",
        "# Create parameters\n",
        "w1 = torch.randn(784, 256)\n",
        "b1 = torch.randn(256)\n",
        "\n",
        "w2 = torch.randn(256, 10)\n",
        "b2 = torch.randn(10)\n",
        "\n",
        "h = activation(torch.mm(inputs, w1) + b1)\n",
        "\n",
        "out = torch.mm(h, w2) + b2\n",
        "print(out.shape)"
      ],
      "execution_count": 6,
      "outputs": [
        {
          "output_type": "stream",
          "text": [
            "torch.Size([64, 10])\n"
          ],
          "name": "stdout"
        }
      ]
    },
    {
      "cell_type": "markdown",
      "metadata": {
        "id": "oUjtIiaNbxjA",
        "colab_type": "text"
      },
      "source": [
        "Now we have 10 outputs for our network. We want to pass in an image to our network and get out a probability distribution over the classes that tells us the likely class(es) the image belongs to. \n",
        "\n",
        "\n",
        "To calculate this probability distribution, we often use the [**softmax** function](https://en.wikipedia.org/wiki/Softmax_function). Mathematically this looks like\n",
        "\n",
        "$$\n",
        "\\Large \\sigma(x_i) = \\cfrac{e^{x_i}}{\\sum_k^K{e^{x_k}}}\n",
        "$$\n",
        "\n",
        "What this does is squish each input $x_i$ between 0 and 1 and normalizes the values to give you a proper probability distribution where the probabilites sum up to one.\n",
        "\n",
        "> **Exercise:** Implement a function `softmax` that performs the softmax calculation and returns probability distributions for each example in the batch. Note that you'll need to pay attention to the shapes when doing this. If you have a tensor `a` with shape `(64, 10)` and a tensor `b` with shape `(64,)`, doing `a/b` will give you an error because PyTorch will try to do the division across the columns (called broadcasting) but you'll get a size mismatch. The way to think about this is for each of the 64 examples, you only want to divide by one value, the sum in the denominator. So you need `b` to have a shape of `(64, 1)`. This way PyTorch will divide the 10 values in each row of `a` by the one value in each row of `b`. Pay attention to how you take the sum as well. You'll need to define the `dim` keyword in `torch.sum`. Setting `dim=0` takes the sum across the rows while `dim=1` takes the sum across the columns."
      ]
    },
    {
      "cell_type": "code",
      "metadata": {
        "id": "H2DnQu1KbxjB",
        "colab_type": "code",
        "outputId": "cba4626f-fc8b-4992-96a7-e8895b582fc8",
        "colab": {
          "base_uri": "https://localhost:8080/",
          "height": 225
        }
      },
      "source": [
        "def softmax(x):\n",
        "    ## TODO: Implement the softmax function here\n",
        "    return x.exp() / x.exp().sum()\n",
        "    \n",
        "    \n",
        "\n",
        "# Here, out should be the output of the network in the previous excercise with shape (64,10)\n",
        "probabilities = softmax(out)\n",
        "\n",
        "# Does it have the right shape? Should be (64, 10)\n",
        "print(probabilities.shape)\n",
        "\n",
        "# Does it sum to 1?\n",
        "print(probabilities.sum(dim=1))"
      ],
      "execution_count": 7,
      "outputs": [
        {
          "output_type": "stream",
          "text": [
            "torch.Size([64, 10])\n",
            "tensor([1.6244e-04, 2.2438e-02, 1.4340e-06, 1.5104e-02, 4.8037e-05, 1.2010e-05,\n",
            "        7.0928e-06, 3.0463e-04, 1.2842e-04, 7.8843e-06, 5.4336e-05, 4.4722e-04,\n",
            "        1.4779e-02, 1.9058e-07, 8.9774e-01, 1.7134e-04, 1.3921e-03, 2.5915e-08,\n",
            "        6.0166e-06, 4.7254e-06, 3.8552e-05, 3.7949e-06, 2.9789e-06, 6.5969e-05,\n",
            "        1.1360e-05, 2.3442e-05, 3.6561e-06, 2.6433e-04, 7.6696e-06, 1.5790e-06,\n",
            "        8.2928e-07, 7.8524e-05, 1.2674e-07, 4.9646e-08, 5.1307e-07, 1.7408e-05,\n",
            "        2.1878e-05, 7.5986e-05, 1.8081e-02, 7.8545e-07, 2.0001e-05, 2.4343e-04,\n",
            "        9.3575e-06, 1.4059e-04, 5.8947e-06, 2.7045e-04, 6.2312e-05, 2.0145e-04,\n",
            "        3.3336e-05, 5.9645e-06, 3.7384e-05, 5.4540e-06, 2.5955e-02, 1.4283e-06,\n",
            "        1.3844e-05, 2.7293e-04, 9.8073e-04, 4.3117e-06, 1.8751e-04, 9.4161e-06,\n",
            "        6.3400e-06, 6.3922e-07, 1.6398e-05, 1.1079e-05])\n"
          ],
          "name": "stdout"
        }
      ]
    },
    {
      "cell_type": "markdown",
      "metadata": {
        "id": "vdrF6PuQbxjC",
        "colab_type": "text"
      },
      "source": [
        "## Building networks with PyTorch\n",
        "\n",
        "PyTorch provides a module `nn` that makes building networks much simpler. Here I'll show you how to build the same one as above with 784 inputs, 256 hidden units, 10 output units and a softmax output."
      ]
    },
    {
      "cell_type": "code",
      "metadata": {
        "id": "eemx0KfdbxjD",
        "colab_type": "code",
        "colab": {}
      },
      "source": [
        "from torch import nn"
      ],
      "execution_count": 0,
      "outputs": []
    },
    {
      "cell_type": "code",
      "metadata": {
        "id": "QIaW3tl8bxjF",
        "colab_type": "code",
        "colab": {}
      },
      "source": [
        "class Network(nn.Module):\n",
        "    def __init__(self):\n",
        "        super().__init__()\n",
        "        \n",
        "        # Inputs to hidden layer linear transformation\n",
        "        self.hidden = nn.Linear(784, 256)\n",
        "        # Output layer, 10 units - one for each digit\n",
        "        self.output = nn.Linear(256, 10)\n",
        "        \n",
        "        # Define sigmoid activation and softmax output \n",
        "        self.sigmoid = nn.Sigmoid()\n",
        "        self.softmax = nn.Softmax(dim=1)\n",
        "        \n",
        "    def forward(self, x):\n",
        "        # Pass the input tensor through each of our operations\n",
        "        x = self.hidden(x)\n",
        "        x = self.sigmoid(x)\n",
        "        x = self.output(x)\n",
        "        x = self.softmax(x)\n",
        "        \n",
        "        return x"
      ],
      "execution_count": 0,
      "outputs": []
    },
    {
      "cell_type": "markdown",
      "metadata": {
        "id": "ep9NPXmFbxjH",
        "colab_type": "text"
      },
      "source": [
        "Let's go through this bit by bit.\n",
        "\n",
        "```python\n",
        "class Network(nn.Module):\n",
        "```\n",
        "\n",
        "Here we're inheriting from `nn.Module`. Combined with `super().__init__()` this creates a class that tracks the architecture and provides a lot of useful methods and attributes. It is mandatory to inherit from `nn.Module` when you're creating a class for your network. The name of the class itself can be anything.\n",
        "\n",
        "```python\n",
        "self.hidden = nn.Linear(784, 256)\n",
        "```\n",
        "\n",
        "This line creates a module for a linear transformation, $x\\mathbf{W} + b$, with 784 inputs and 256 outputs and assigns it to `self.hidden`. The module automatically creates the weight and bias tensors which we'll use in the `forward` method. You can access the weight and bias tensors once the network (`net`) is created with `net.hidden.weight` and `net.hidden.bias`.\n",
        "\n",
        "```python\n",
        "self.output = nn.Linear(256, 10)\n",
        "```\n",
        "\n",
        "Similarly, this creates another linear transformation with 256 inputs and 10 outputs.\n",
        "\n",
        "```python\n",
        "self.sigmoid = nn.Sigmoid()\n",
        "self.softmax = nn.Softmax(dim=1)\n",
        "```\n",
        "\n",
        "Here I defined operations for the sigmoid activation and softmax output. Setting `dim=1` in `nn.Softmax(dim=1)` calculates softmax across the columns.\n",
        "\n",
        "```python\n",
        "def forward(self, x):\n",
        "```\n",
        "\n",
        "PyTorch networks created with `nn.Module` must have a `forward` method defined. It takes in a tensor `x` and passes it through the operations you defined in the `__init__` method.\n",
        "\n",
        "```python\n",
        "x = self.hidden(x)\n",
        "x = self.sigmoid(x)\n",
        "x = self.output(x)\n",
        "x = self.softmax(x)\n",
        "```\n",
        "\n",
        "Here the input tensor `x` is passed through each operation and reassigned to `x`. We can see that the input tensor goes through the hidden layer, then a sigmoid function, then the output layer, and finally the softmax function. It doesn't matter what you name the variables here, as long as the inputs and outputs of the operations match the network architecture you want to build. The order in which you define things in the `__init__` method doesn't matter, but you'll need to sequence the operations correctly in the `forward` method.\n",
        "\n",
        "Now we can create a `Network` object."
      ]
    },
    {
      "cell_type": "code",
      "metadata": {
        "id": "WvztqoEnbxjI",
        "colab_type": "code",
        "outputId": "3197d47d-59df-4f8f-ba15-c55e89c61b82",
        "colab": {
          "base_uri": "https://localhost:8080/",
          "height": 121
        }
      },
      "source": [
        "# Create the network and look at it's text representation\n",
        "model = Network()\n",
        "model"
      ],
      "execution_count": 10,
      "outputs": [
        {
          "output_type": "execute_result",
          "data": {
            "text/plain": [
              "Network(\n",
              "  (hidden): Linear(in_features=784, out_features=256, bias=True)\n",
              "  (output): Linear(in_features=256, out_features=10, bias=True)\n",
              "  (sigmoid): Sigmoid()\n",
              "  (softmax): Softmax()\n",
              ")"
            ]
          },
          "metadata": {
            "tags": []
          },
          "execution_count": 10
        }
      ]
    },
    {
      "cell_type": "markdown",
      "metadata": {
        "id": "4XpVw2vtbxjK",
        "colab_type": "text"
      },
      "source": [
        "You can define the network somewhat more concisely and clearly using the `torch.nn.functional` module. This is the most common way you'll see networks defined as many operations are simple element-wise functions. We normally import this module as `F`, `import torch.nn.functional as F`."
      ]
    },
    {
      "cell_type": "code",
      "metadata": {
        "id": "nSPjA0a2bxjK",
        "colab_type": "code",
        "outputId": "95e9ae08-d9f5-41f9-924e-38cfa28b88ed",
        "colab": {
          "base_uri": "https://localhost:8080/",
          "height": 764
        }
      },
      "source": [
        "import torch.nn.functional as F\n",
        "\n",
        "class Network(nn.Module):\n",
        "    def __init__(self):\n",
        "        super().__init__()\n",
        "        # Inputs to hidden layer linear transformation\n",
        "        self.hidden = nn.Linear(784, 256)\n",
        "        # Output layer, 10 units - one for each digit\n",
        "        self.output = nn.Linear(256, 10)\n",
        "        \n",
        "    def forward(self, x):\n",
        "        # Hidden layer with sigmoid activation\n",
        "        x = F.sigmoid(self.hidden(x))\n",
        "        # Output layer with softmax activation\n",
        "        x = F.softmax(self.output(x), dim=1)        \n",
        "        return x\n",
        "      \n",
        "print(model.hidden.weight)\n",
        "print(model.hidden.bias)"
      ],
      "execution_count": 11,
      "outputs": [
        {
          "output_type": "stream",
          "text": [
            "Parameter containing:\n",
            "tensor([[-0.0318, -0.0152,  0.0300,  ...,  0.0009,  0.0071,  0.0274],\n",
            "        [ 0.0196, -0.0356, -0.0196,  ..., -0.0011, -0.0333, -0.0150],\n",
            "        [ 0.0154, -0.0192,  0.0037,  ..., -0.0104, -0.0189, -0.0218],\n",
            "        ...,\n",
            "        [-0.0031, -0.0088,  0.0075,  ..., -0.0216, -0.0344,  0.0262],\n",
            "        [-0.0169, -0.0184,  0.0315,  ...,  0.0184,  0.0154,  0.0026],\n",
            "        [ 0.0200, -0.0247, -0.0285,  ..., -0.0139, -0.0211,  0.0116]],\n",
            "       requires_grad=True)\n",
            "Parameter containing:\n",
            "tensor([ 0.0267, -0.0090, -0.0148,  0.0044, -0.0173, -0.0038, -0.0241, -0.0042,\n",
            "         0.0125,  0.0042, -0.0312,  0.0214,  0.0250, -0.0336, -0.0342, -0.0213,\n",
            "        -0.0179, -0.0300,  0.0110,  0.0077, -0.0229,  0.0219,  0.0267,  0.0052,\n",
            "        -0.0164,  0.0156,  0.0324, -0.0208, -0.0341, -0.0070, -0.0036, -0.0065,\n",
            "        -0.0062, -0.0227,  0.0003,  0.0355, -0.0191, -0.0196, -0.0002, -0.0274,\n",
            "        -0.0336, -0.0338,  0.0320, -0.0171,  0.0336, -0.0332,  0.0178,  0.0097,\n",
            "        -0.0221, -0.0238, -0.0354,  0.0030,  0.0282,  0.0201,  0.0301, -0.0152,\n",
            "         0.0294, -0.0007,  0.0190, -0.0355,  0.0119, -0.0072, -0.0078,  0.0288,\n",
            "        -0.0337, -0.0044,  0.0104, -0.0078,  0.0308,  0.0263,  0.0173, -0.0313,\n",
            "        -0.0235,  0.0036,  0.0274, -0.0099,  0.0330, -0.0149, -0.0022,  0.0166,\n",
            "         0.0130,  0.0003, -0.0217,  0.0114, -0.0049, -0.0145,  0.0085, -0.0104,\n",
            "         0.0231, -0.0072,  0.0141, -0.0088, -0.0317,  0.0086,  0.0184, -0.0235,\n",
            "         0.0081,  0.0248, -0.0121, -0.0240, -0.0263, -0.0246,  0.0242, -0.0088,\n",
            "        -0.0277,  0.0190, -0.0345,  0.0252, -0.0219,  0.0037,  0.0023, -0.0305,\n",
            "         0.0205,  0.0296, -0.0270, -0.0265,  0.0308, -0.0267, -0.0221, -0.0157,\n",
            "         0.0033,  0.0128, -0.0162,  0.0278,  0.0321, -0.0136, -0.0049, -0.0078,\n",
            "        -0.0228,  0.0350, -0.0353,  0.0354, -0.0109,  0.0173,  0.0187, -0.0165,\n",
            "        -0.0251,  0.0051,  0.0179,  0.0152,  0.0124, -0.0046,  0.0112,  0.0094,\n",
            "         0.0142,  0.0290, -0.0100, -0.0019, -0.0332, -0.0074,  0.0341,  0.0154,\n",
            "        -0.0264,  0.0060,  0.0008, -0.0004,  0.0031, -0.0177,  0.0037,  0.0268,\n",
            "        -0.0346, -0.0151, -0.0071, -0.0147, -0.0286, -0.0189,  0.0222,  0.0030,\n",
            "        -0.0253,  0.0144, -0.0011, -0.0046, -0.0260, -0.0269,  0.0075, -0.0351,\n",
            "        -0.0239, -0.0270, -0.0260,  0.0035,  0.0254,  0.0033,  0.0319, -0.0284,\n",
            "         0.0274, -0.0188, -0.0312, -0.0122,  0.0261,  0.0196, -0.0334,  0.0171,\n",
            "        -0.0328,  0.0063,  0.0213,  0.0108, -0.0270, -0.0168,  0.0176, -0.0316,\n",
            "        -0.0274, -0.0007, -0.0240, -0.0064, -0.0284, -0.0191, -0.0207, -0.0098,\n",
            "         0.0007, -0.0002, -0.0217, -0.0250, -0.0286,  0.0033, -0.0265, -0.0310,\n",
            "         0.0261, -0.0247, -0.0205, -0.0130, -0.0205,  0.0082,  0.0093,  0.0245,\n",
            "        -0.0156, -0.0054, -0.0353,  0.0221, -0.0045, -0.0095,  0.0270,  0.0190,\n",
            "         0.0322,  0.0227, -0.0214, -0.0309, -0.0238,  0.0197,  0.0112,  0.0116,\n",
            "        -0.0155, -0.0291,  0.0078,  0.0096, -0.0256,  0.0228,  0.0157,  0.0163,\n",
            "        -0.0146, -0.0084,  0.0267, -0.0021,  0.0243,  0.0211, -0.0196,  0.0276],\n",
            "       requires_grad=True)\n"
          ],
          "name": "stdout"
        }
      ]
    },
    {
      "cell_type": "markdown",
      "metadata": {
        "id": "zWLBu56fbxjM",
        "colab_type": "text"
      },
      "source": [
        "### Activation functions\n",
        "\n",
        "So far we've only been looking at the sigmoid activation function, but in general any function can be used as an activation function. The only requirement is that for a network to approximate a non-linear function, the activation functions must be non-linear. Here are a few more examples of common activation functions: Tanh (hyperbolic tangent), and ReLU (rectified linear unit).\n",
        "\n",
        "\n",
        "In practice, the ReLU function is used almost exclusively as the activation function for hidden layers."
      ]
    },
    {
      "cell_type": "markdown",
      "metadata": {
        "id": "EZo7JOtNbxjM",
        "colab_type": "text"
      },
      "source": [
        "### Your Turn to Build a Network\n",
        "\n",
        "\n",
        "> **Exercise:** Create a network with 784 input units, a hidden layer with 128 units and a ReLU activation, then a hidden layer with 64 units and a ReLU activation, and finally an output layer with a softmax activation as shown above. You can use a ReLU activation with the `nn.ReLU` module or `F.relu` function.\n",
        "\n",
        "It's good practice to name your layers by their type of network, for instance 'fc' to represent a fully-connected layer. As you code your solution, use `fc1`, `fc2`, and `fc3` as your layer names."
      ]
    },
    {
      "cell_type": "code",
      "metadata": {
        "scrolled": true,
        "id": "G6mmXdH3bxjN",
        "colab_type": "code",
        "colab": {}
      },
      "source": [
        "import torch.nn.functional as F\n",
        "\n",
        "class Network(nn.Module):\n",
        "    def __init__(self):\n",
        "        super().__init__()\n",
        "        \n",
        "        self.fc1 = nn.Linear(784,128)\n",
        "        self.fc2 = nn.Linear(128,64)\n",
        "    \n",
        "    def forward(self, x):\n",
        "        x = self.fc1(x)\n",
        "        x = self.fc2(x)\n",
        "        return x\n",
        "      \n",
        "model = Network()\n"
      ],
      "execution_count": 0,
      "outputs": []
    },
    {
      "cell_type": "markdown",
      "metadata": {
        "id": "1N6tUk_ibxjO",
        "colab_type": "text"
      },
      "source": [
        "### Initializing weights and biases\n",
        "\n",
        "The weights and such are automatically initialized for you, but it's possible to customize how they are initialized. The weights and biases are tensors attached to the layer you defined, you can get them with `model.fc1.weight` for instance."
      ]
    },
    {
      "cell_type": "code",
      "metadata": {
        "id": "xYLpcPawbxjP",
        "colab_type": "code",
        "outputId": "6337c1c7-a269-491a-891b-f56af4905a54",
        "colab": {
          "base_uri": "https://localhost:8080/",
          "height": 486
        }
      },
      "source": [
        "print(model.fc1.weight)\n",
        "print(model.fc1.bias)"
      ],
      "execution_count": 13,
      "outputs": [
        {
          "output_type": "stream",
          "text": [
            "Parameter containing:\n",
            "tensor([[ 0.0239, -0.0353,  0.0049,  ...,  0.0244, -0.0287,  0.0102],\n",
            "        [ 0.0149, -0.0337,  0.0163,  ...,  0.0145, -0.0257, -0.0104],\n",
            "        [-0.0187, -0.0336,  0.0295,  ..., -0.0109, -0.0235,  0.0170],\n",
            "        ...,\n",
            "        [-0.0099, -0.0126, -0.0184,  ..., -0.0067,  0.0273, -0.0189],\n",
            "        [-0.0230, -0.0258, -0.0223,  ...,  0.0185,  0.0145, -0.0302],\n",
            "        [ 0.0269, -0.0269,  0.0312,  ...,  0.0169, -0.0135, -0.0020]],\n",
            "       requires_grad=True)\n",
            "Parameter containing:\n",
            "tensor([ 0.0059, -0.0124, -0.0306, -0.0210,  0.0175,  0.0157,  0.0248, -0.0245,\n",
            "         0.0123,  0.0107, -0.0353,  0.0002, -0.0021, -0.0024, -0.0324,  0.0216,\n",
            "         0.0325,  0.0030, -0.0337, -0.0181, -0.0228,  0.0242,  0.0108, -0.0177,\n",
            "         0.0235, -0.0350,  0.0021,  0.0079, -0.0123,  0.0320, -0.0150, -0.0018,\n",
            "        -0.0067, -0.0267, -0.0106,  0.0288,  0.0319,  0.0161,  0.0032, -0.0136,\n",
            "         0.0034, -0.0344, -0.0264,  0.0177, -0.0077, -0.0327,  0.0282, -0.0306,\n",
            "        -0.0061,  0.0052, -0.0034, -0.0092,  0.0091, -0.0151,  0.0117, -0.0120,\n",
            "        -0.0157,  0.0322, -0.0090,  0.0201,  0.0024, -0.0160,  0.0195, -0.0251,\n",
            "        -0.0046, -0.0057, -0.0240,  0.0328,  0.0346, -0.0228,  0.0171, -0.0228,\n",
            "         0.0217,  0.0076,  0.0146,  0.0052,  0.0084,  0.0068, -0.0131,  0.0234,\n",
            "        -0.0139,  0.0175, -0.0148,  0.0160,  0.0144, -0.0107, -0.0252,  0.0190,\n",
            "         0.0171, -0.0091,  0.0149, -0.0142,  0.0064, -0.0272,  0.0160, -0.0101,\n",
            "         0.0226,  0.0334, -0.0301,  0.0243,  0.0270,  0.0019, -0.0034,  0.0076,\n",
            "         0.0011, -0.0269, -0.0322,  0.0316, -0.0284,  0.0200, -0.0005,  0.0354,\n",
            "        -0.0097, -0.0309, -0.0236, -0.0121,  0.0345, -0.0075,  0.0194,  0.0144,\n",
            "         0.0143,  0.0208, -0.0076, -0.0232,  0.0089, -0.0207, -0.0250,  0.0258],\n",
            "       requires_grad=True)\n"
          ],
          "name": "stdout"
        }
      ]
    },
    {
      "cell_type": "markdown",
      "metadata": {
        "id": "IBIrz53DbxjR",
        "colab_type": "text"
      },
      "source": [
        "For custom initialization, we want to modify these tensors in place. These are actually autograd *Variables*, so we need to get back the actual tensors with `model.fc1.weight.data`. Once we have the tensors, we can fill them with zeros (for biases) or random normal values."
      ]
    },
    {
      "cell_type": "code",
      "metadata": {
        "id": "LugZ7aFgbxjR",
        "colab_type": "code",
        "colab": {
          "base_uri": "https://localhost:8080/",
          "height": 121
        },
        "outputId": "adbd7485-5079-42aa-e16e-5699ef2a5432"
      },
      "source": [
        "# Set biases to all zeros\n",
        "model.fc1.bias.data.fill_(0)"
      ],
      "execution_count": 14,
      "outputs": [
        {
          "output_type": "execute_result",
          "data": {
            "text/plain": [
              "tensor([0., 0., 0., 0., 0., 0., 0., 0., 0., 0., 0., 0., 0., 0., 0., 0., 0., 0., 0., 0., 0., 0., 0., 0.,\n",
              "        0., 0., 0., 0., 0., 0., 0., 0., 0., 0., 0., 0., 0., 0., 0., 0., 0., 0., 0., 0., 0., 0., 0., 0.,\n",
              "        0., 0., 0., 0., 0., 0., 0., 0., 0., 0., 0., 0., 0., 0., 0., 0., 0., 0., 0., 0., 0., 0., 0., 0.,\n",
              "        0., 0., 0., 0., 0., 0., 0., 0., 0., 0., 0., 0., 0., 0., 0., 0., 0., 0., 0., 0., 0., 0., 0., 0.,\n",
              "        0., 0., 0., 0., 0., 0., 0., 0., 0., 0., 0., 0., 0., 0., 0., 0., 0., 0., 0., 0., 0., 0., 0., 0.,\n",
              "        0., 0., 0., 0., 0., 0., 0., 0.])"
            ]
          },
          "metadata": {
            "tags": []
          },
          "execution_count": 14
        }
      ]
    },
    {
      "cell_type": "code",
      "metadata": {
        "id": "tntHkKLXbxjT",
        "colab_type": "code",
        "colab": {
          "base_uri": "https://localhost:8080/",
          "height": 139
        },
        "outputId": "c1bfee03-d85e-451d-8140-e7374f8846e2"
      },
      "source": [
        "# sample from random normal with standard dev = 0.01\n",
        "model.fc1.weight.data.normal_(std=0.01)"
      ],
      "execution_count": 15,
      "outputs": [
        {
          "output_type": "execute_result",
          "data": {
            "text/plain": [
              "tensor([[ 0.0078,  0.0065,  0.0153,  ...,  0.0093,  0.0057, -0.0358],\n",
              "        [ 0.0059,  0.0020, -0.0116,  ...,  0.0052, -0.0049,  0.0056],\n",
              "        [-0.0123, -0.0139,  0.0005,  ..., -0.0006, -0.0119,  0.0085],\n",
              "        ...,\n",
              "        [ 0.0061, -0.0083,  0.0070,  ...,  0.0087, -0.0033, -0.0007],\n",
              "        [ 0.0132,  0.0045, -0.0124,  ...,  0.0163,  0.0052, -0.0177],\n",
              "        [ 0.0075,  0.0010,  0.0069,  ...,  0.0014,  0.0070,  0.0100]])"
            ]
          },
          "metadata": {
            "tags": []
          },
          "execution_count": 15
        }
      ]
    },
    {
      "cell_type": "markdown",
      "metadata": {
        "id": "wW-31YoSbxjV",
        "colab_type": "text"
      },
      "source": [
        "### Forward pass\n",
        "\n",
        "Now that we have a network, let's see what happens when we pass in an image."
      ]
    },
    {
      "cell_type": "code",
      "metadata": {
        "id": "x_4a8enHbxjV",
        "colab_type": "code",
        "colab": {}
      },
      "source": [
        "# Grab some data \n",
        "dataiter = iter(trainloader)\n",
        "images, labels = dataiter.next()\n",
        "\n",
        "# Resize images into a 1D vector, new shape is (batch size, color channels, image pixels) \n",
        "images.resize_(64, 1, 784)\n",
        "# or images.resize_(images.shape[0], 1, 784) to automatically get batch size\n",
        "\n",
        "# Forward pass through the network\n",
        "img_idx = 0\n",
        "ps = model.forward(images[img_idx,:])\n",
        "\n",
        "\n",
        "img = images[img_idx]\n",
        "helper.view_classify(img.view(1, 28, 28), ps)"
      ],
      "execution_count": 0,
      "outputs": []
    },
    {
      "cell_type": "markdown",
      "metadata": {
        "id": "Bv16DAGXbxjY",
        "colab_type": "text"
      },
      "source": [
        "As you can see above, our network has basically no idea what this digit is. It's because we haven't trained it yet, all the weights are random!\n",
        "\n",
        "### Using `nn.Sequential`\n",
        "\n",
        "PyTorch provides a convenient way to build networks like this where a tensor is passed sequentially through operations, `nn.Sequential` ([documentation](https://pytorch.org/docs/master/nn.html#torch.nn.Sequential)). Using this to build the equivalent network:"
      ]
    },
    {
      "cell_type": "code",
      "metadata": {
        "id": "uwfIK2o_bxjZ",
        "colab_type": "code",
        "colab": {}
      },
      "source": [
        "# Hyperparameters for our network\n",
        "input_size = 784\n",
        "hidden_sizes = [128, 64]\n",
        "output_size = 10\n",
        "\n",
        "# Build a feed-forward network\n",
        "model = nn.Sequential(nn.Linear(input_size, hidden_sizes[0]),\n",
        "                      nn.ReLU(),\n",
        "                      nn.Linear(hidden_sizes[0], hidden_sizes[1]),\n",
        "                      nn.ReLU(),\n",
        "                      nn.Linear(hidden_sizes[1], output_size),\n",
        "                      nn.Softmax(dim=1))\n",
        "print(model)\n",
        "\n",
        "# Forward pass through the network and display output\n",
        "images, labels = next(iter(trainloader))\n",
        "images.resize_(images.shape[0], 1, 784)\n",
        "ps = model.forward(images[0,:])\n",
        "helper.view_classify(images[0].view(1, 28, 28), ps)"
      ],
      "execution_count": 0,
      "outputs": []
    },
    {
      "cell_type": "markdown",
      "metadata": {
        "id": "CuU7E740bxjf",
        "colab_type": "text"
      },
      "source": [
        "Here our model is the same as before: 784 input units, a hidden layer with 128 units, ReLU activation, 64 unit hidden layer, another ReLU, then the output layer with 10 units, and the softmax output.\n",
        "\n",
        "The operations are available by passing in the appropriate index. For example, if you want to get first Linear operation and look at the weights, you'd use `model[0]`."
      ]
    },
    {
      "cell_type": "code",
      "metadata": {
        "id": "bGeIzPyTbxjg",
        "colab_type": "code",
        "colab": {
          "base_uri": "https://localhost:8080/",
          "height": 191
        },
        "outputId": "2625c1b7-3404-4041-d096-176744f0df5d"
      },
      "source": [
        "print(model[0])\n",
        "model[0].weight"
      ],
      "execution_count": 32,
      "outputs": [
        {
          "output_type": "stream",
          "text": [
            "Linear(in_features=784, out_features=128, bias=True)\n"
          ],
          "name": "stdout"
        },
        {
          "output_type": "execute_result",
          "data": {
            "text/plain": [
              "Parameter containing:\n",
              "tensor([[-0.0025,  0.0246, -0.0307,  ...,  0.0350, -0.0010,  0.0119],\n",
              "        [ 0.0087, -0.0070, -0.0189,  ...,  0.0104, -0.0162,  0.0237],\n",
              "        [ 0.0304,  0.0300, -0.0345,  ...,  0.0197, -0.0006, -0.0027],\n",
              "        ...,\n",
              "        [-0.0207, -0.0142,  0.0173,  ..., -0.0010, -0.0064,  0.0195],\n",
              "        [ 0.0138, -0.0114,  0.0196,  ..., -0.0250,  0.0094,  0.0279],\n",
              "        [-0.0241, -0.0287, -0.0044,  ..., -0.0300, -0.0183, -0.0122]],\n",
              "       requires_grad=True)"
            ]
          },
          "metadata": {
            "tags": []
          },
          "execution_count": 32
        }
      ]
    },
    {
      "cell_type": "markdown",
      "metadata": {
        "id": "q-ewClmwbxji",
        "colab_type": "text"
      },
      "source": [
        "You can also pass in an `OrderedDict` to name the individual layers and operations, instead of using incremental integers. Note that dictionary keys must be unique, so _each operation must have a different name_."
      ]
    },
    {
      "cell_type": "code",
      "metadata": {
        "id": "JP6ra_Iwbxjj",
        "colab_type": "code",
        "outputId": "fd5c0a85-ac96-483d-b09f-aedb30f79b85",
        "colab": {
          "base_uri": "https://localhost:8080/",
          "height": 156
        }
      },
      "source": [
        "from collections import OrderedDict\n",
        "model = nn.Sequential(OrderedDict([\n",
        "                      ('fc1', nn.Linear(input_size, hidden_sizes[0])),\n",
        "                      ('relu1', nn.ReLU()),\n",
        "                      ('fc2', nn.Linear(hidden_sizes[0], hidden_sizes[1])),\n",
        "                      ('relu2', nn.ReLU()),\n",
        "                      ('output', nn.Linear(hidden_sizes[1], output_size)),\n",
        "                      ('softmax', nn.Softmax(dim=1))]))\n",
        "model"
      ],
      "execution_count": 33,
      "outputs": [
        {
          "output_type": "execute_result",
          "data": {
            "text/plain": [
              "Sequential(\n",
              "  (fc1): Linear(in_features=784, out_features=128, bias=True)\n",
              "  (relu1): ReLU()\n",
              "  (fc2): Linear(in_features=128, out_features=64, bias=True)\n",
              "  (relu2): ReLU()\n",
              "  (output): Linear(in_features=64, out_features=10, bias=True)\n",
              "  (softmax): Softmax()\n",
              ")"
            ]
          },
          "metadata": {
            "tags": []
          },
          "execution_count": 33
        }
      ]
    },
    {
      "cell_type": "markdown",
      "metadata": {
        "id": "dht4C9nabxjk",
        "colab_type": "text"
      },
      "source": [
        "Now you can access layers either by integer or the name"
      ]
    },
    {
      "cell_type": "code",
      "metadata": {
        "id": "GmTK59Ckbxjl",
        "colab_type": "code",
        "outputId": "a54e0d96-bf09-455a-e600-9d98c5bab6ad",
        "colab": {
          "base_uri": "https://localhost:8080/",
          "height": 52
        }
      },
      "source": [
        "print(model[0])\n",
        "print(model.fc1)"
      ],
      "execution_count": 34,
      "outputs": [
        {
          "output_type": "stream",
          "text": [
            "Linear(in_features=784, out_features=128, bias=True)\n",
            "Linear(in_features=784, out_features=128, bias=True)\n"
          ],
          "name": "stdout"
        }
      ]
    },
    {
      "cell_type": "markdown",
      "metadata": {
        "id": "CChdxhdnbxjn",
        "colab_type": "text"
      },
      "source": [
        "In the next notebook, we'll see how we can train a neural network to accuractly predict the numbers appearing in the MNIST images."
      ]
    }
  ]
}